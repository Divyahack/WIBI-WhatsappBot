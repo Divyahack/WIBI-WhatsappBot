from selenium import webdriver
from selenium.webdriver.common.action_chains import ActionChains
from selenium.webdriver.common.keys import Keys
from selenium.webdriver.support import expected_conditions as EC
from selenium.webdriver.common.by import By
from selenium.webdriver.support.ui import WebDriverWait as wait
from selenium.webdriver.chrome.options import Options


option=Options()
option.add_argument('user-data-dir=selenium')
print("**********    'WIBI'- WHATSAPPBOT by DIVYA SINGH     **********")
print("ENTER ANY KEY TO CONTINUE  ")
input("")


driver=webdriver.Chrome('C:\webdrivers\chromedriver.exe')

driver.get("https://web.whatsapp.com/")
input("After Scanning bar code press any key to continue")

##ELEMENT CHATHEAD
def name_input():
    ##take name input
    user_name=input("WHOM DO YOU WANT TO SEND MESSAGE  ")
    chat=driver.find_element_by_xpath('//span[text()="%s"]'%(user_name))
    chat.click()

##TEXT LANE
def texter():
    lane=driver.find_element_by_xpath('//*[@id="main"]/footer/div[1]/div[2]/div/div[2]')
    i=1
    ranger=int(input("ENTER HOW MANY TIMES TO SEND A MESSAGE "))
    typo=input("ENTER MESAAGE TO SEND  ")
    while i<=ranger:
        lane.send_keys(typo)
        lane.send_keys(Keys.RETURN)
        i=i+1



##FORMAT CHECKER  
def format_checker(str):
    try:
        errr=int(input(str))
        return errr
    except:
        print("USE INTEGER FORMAT INPUT ONLY !!")
        format_checker(str)
##FORWORDER
def forwarder():
    namelist=[]
    choicer=0
    iol=0
    while choicer!=1:
        namer=input("ENTER THE NAME OF THE PERSON : %d"%(iol))
        namelist.append(namer)
        iol+=1
        choicer=format_checker("press 1 to exit, press any other key to continue adding list")
    print("CONTACT NAMES ARE :")
    def list_print():
            for x in range(iol):
                print("%d namelist[%d]"%(x,x))
    def ex_forwarder():
        c_1=format_checker("Press 1 to add more contact || press 2 to delete some contacts || press 3 to continue")
        if c_1==1:           
            namer_r=input("ENTER NAME OF THE PERSON :")
            namelist.append(namer_r)
        elif c_1==2:
            print("CURRENT LIST IS:")
            list_print()
            namer_t=input("Enter the Name of the person to remove !! please be accurate")
            kr=0
            for y in range(iol):
                if namelist[y]==namer_t:
                    namelist.remove(namer_t)
                    kr=1
            if kr==0:
                print("NO such contact found recalling")
                ex_forwarder()
            else:
                execute_forwarder()
        elif c_1==3:
            execute_forwarder()
        else:
            print("woops!! wrong choice recalling")
            ex_forwarder()
    def execute_forwarder():
        izr=format_checker("how many times do u want to send message")
        izr_text=input("Enter the message")
        for xoz in range(iol):
            use_this=namelist[xoz]
            opener=driver.find_element_by_xpath('//span[text()="%s"]'%(use_this))    
            opener.click()
            lane_rn=driver.find_element_by_xpath('//*[@id="main"]/footer/div[1]/div[2]/div/div[2]')
            izp=0
            while izp!=izr:
                try:
                    lane_rn.send_keys(izr_text)
                    lane_rn.send_keys(Keys.RETURN)
                    izp+=1
                except:
                    print("ERROR IN MULTIFORWARDER")
                    actual_exe()
        actual_exe()
    list_print()
    ex_forwarder()

    ##Actual starts here
def multiple_sender():
    try:
        choice=0
        while choice!=1:
            name_input()
            texter()
            choice=format_checker("press 1 to exit , press any other key to continue adding list")
            if choice==1:
                actual_exe()
    except:
        print("ERROR in multiple sender !!")
        print("RECALLING")
        multiple_sender()
##-------------------------------------------------------------------------------------
def actual_exe():
        print("PRESS 1 FOR MSG BOMBING || PRESS 2 FOR MULTIPLE FORWARDER || PRESS 3 TO EXIT")
        c_4=format_checker(" ")
        if c_4==1:
            multiple_sender()
        elif c_4==2:
            
            forwarder()
        elif c_4==3:
            print("----THANKS FOR USING WIBI BY Divya-----")
        else:
            print("woops!! wrong input")
            print("RECALLING")
          
            actual_exe()
actual_exe()

